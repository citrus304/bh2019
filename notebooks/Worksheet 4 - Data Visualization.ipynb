{
 "cells": [
  {
   "cell_type": "code",
   "execution_count": null,
   "metadata": {
    "ExecuteTime": {
     "end_time": "2019-03-06T14:24:57.501078Z",
     "start_time": "2019-03-06T14:24:52.986467Z"
    }
   },
   "outputs": [],
   "source": [
    "import pandas as pd \n",
    "import matplotlib.pyplot as plt\n",
    "import numpy as np\n",
    "import seaborn as sns\n",
    "import cufflinks as cf\n",
    "import plotly\n",
    "import panel as pn\n",
    "pn.extension()\n",
    "cf.go_offline()\n",
    "%matplotlib inline\n",
    "plt.style.use('ggplot')"
   ]
  },
  {
   "cell_type": "markdown",
   "metadata": {},
   "source": [
    "<img src=\"../img/logo_white_bkg_small.png\" align=\"right\" />\n",
    "\n",
    "# Worksheet 4 - Data Visualization\n",
    "This worksheet will walk you through the basic process of preparing a visualization using Python/Pandas/Matplotlib/Seaborn/Cufflinks.  \n",
    "\n",
    "For this exercise, we will be creating a line plot comparing the number of hosts infected by the Bedep and ConfickerAB Bot Families in the Government/Politics sector."
   ]
  },
  {
   "cell_type": "markdown",
   "metadata": {},
   "source": [
    "## Prepare the data\n",
    "The data we will be using is in the `dailybots.csv` file which can be found in the `data` folder.  As is common, we will have to do some data wrangling to get it into a format which we can use to visualize this data.  To do that, we'll need to:\n",
    "1.  Read in the data\n",
    "2.  Filter the data by industry and botnet\n",
    "The result should look something like this:\n",
    "\n",
    "<table>\n",
    "    <tr>\n",
    "        <th></th>\n",
    "        <th>date</th>\n",
    "        <th>ConflikerAB</th>\n",
    "        <th>Bedep</th>\n",
    "    </tr>\n",
    "    <tr>\n",
    "        <td>0</td>\n",
    "        <td>2016-06-01</td>\n",
    "        <td>255</td>\n",
    "        <td>430</td>\n",
    "    </tr>\n",
    "    <tr>\n",
    "        <td>1</td>\n",
    "        <td>2016-06-02</td>\n",
    "        <td>431</td>\n",
    "        <td>453</td>\n",
    "    </tr>\n",
    "</table>\n",
    "\n",
    "The way I chose to do this might be a little more complex, but I wanted you to see all the steps involved.\n",
    "\n",
    "###  Step 1 Read in the data\n",
    "Using the `pd.read_csv()` function, you can read in the data."
   ]
  },
  {
   "cell_type": "code",
   "execution_count": null,
   "metadata": {
    "ExecuteTime": {
     "end_time": "2019-03-05T14:49:00.095311Z",
     "start_time": "2019-03-05T14:49:00.054524Z"
    }
   },
   "outputs": [],
   "source": [
    "DATA_HOME = '../data/'\n",
    "data = pd.read_csv(DATA_HOME + 'dailybots.csv')\n",
    "data.head()"
   ]
  },
  {
   "cell_type": "code",
   "execution_count": null,
   "metadata": {},
   "outputs": [],
   "source": [
    "data['botfam'].value_counts()"
   ]
  },
  {
   "cell_type": "markdown",
   "metadata": {},
   "source": [
    "### Step 2:  Filter the Data\n",
    "The next step is to filter both by industry and by botfam.  In order to get the data into the format I wanted, I did this separately.  First, I created a second dataframe called `filteredData` which only contains the information from the `Government/Politics` industry."
   ]
  },
  {
   "cell_type": "code",
   "execution_count": null,
   "metadata": {
    "ExecuteTime": {
     "end_time": "2019-03-05T14:49:01.076300Z",
     "start_time": "2019-03-05T14:49:01.061726Z"
    }
   },
   "outputs": [],
   "source": [
    "# Your code here..."
   ]
  },
  {
   "cell_type": "markdown",
   "metadata": {},
   "source": [
    "Next, I created a second DataFrame which only contains the information from the `ConfickerAB` botnet.  I also reduced the columns to the date and host count.  You'll need to rename the host count so that you can merge the other data set later."
   ]
  },
  {
   "cell_type": "code",
   "execution_count": null,
   "metadata": {
    "ExecuteTime": {
     "end_time": "2019-03-05T14:49:02.122295Z",
     "start_time": "2019-03-05T14:49:02.110281Z"
    }
   },
   "outputs": [],
   "source": [
    "# Your code here..."
   ]
  },
  {
   "cell_type": "markdown",
   "metadata": {},
   "source": [
    "Repeat this porcess for the `Bedep` botfam in a separate dataFrame.  \n",
    "\n",
    "### Step 3: Merge the DataFrames.\n",
    "Next, you'll need to merge the dataframes so that you end up with a dataframe with three columns: the date, the `ConfickerAB` count, and the the `Bedep` count.  Pandas has a `.merge()` function which is documented here: http://pandas.pydata.org/pandas-docs/stable/merging.html\n"
   ]
  },
  {
   "cell_type": "code",
   "execution_count": null,
   "metadata": {
    "ExecuteTime": {
     "end_time": "2019-03-05T14:49:03.396487Z",
     "start_time": "2019-03-05T14:49:03.372373Z"
    }
   },
   "outputs": [],
   "source": [
    "# Your code here..."
   ]
  },
  {
   "cell_type": "markdown",
   "metadata": {},
   "source": [
    "##  Create the first chart\n",
    "Using the `.plot()` method, plot your dataframe and see what you get.  "
   ]
  },
  {
   "cell_type": "code",
   "execution_count": null,
   "metadata": {
    "ExecuteTime": {
     "end_time": "2019-03-05T14:49:06.686934Z",
     "start_time": "2019-03-05T14:49:06.420925Z"
    }
   },
   "outputs": [],
   "source": [
    "#Your code here..."
   ]
  },
  {
   "cell_type": "markdown",
   "metadata": {},
   "source": [
    "## Step 3 Customizing your plot:\n",
    "The default plot doesn't look horrible, but there are certainly some improvements which can be made.  Try the following:\n",
    "1.  Change the x-axis to a date by converting the date column to a date object.\n",
    "2.  Move the Legend to the upper center of the graph\n",
    "3.  Make the figure size larger.\n",
    "4.  Instead of rendering both lines on one graph, split them up into two plots\n",
    "5.  Add axis labels\n",
    "\n",
    "There are many examples in the documentation which is available: http://pandas.pydata.org/pandas-docs/version/0.18.1/visualization.html"
   ]
  },
  {
   "cell_type": "code",
   "execution_count": null,
   "metadata": {
    "ExecuteTime": {
     "end_time": "2019-03-05T14:49:08.948821Z",
     "start_time": "2019-03-05T14:49:08.077524Z"
    }
   },
   "outputs": [],
   "source": [
    "#Your code here..."
   ]
  },
  {
   "cell_type": "markdown",
   "metadata": {},
   "source": [
    "### Move the Legend to the Upper Center of the Graph\n",
    "For this, you'll have to assign the plot variable to a new variable and then call the formatting methods on it. "
   ]
  },
  {
   "cell_type": "code",
   "execution_count": null,
   "metadata": {
    "ExecuteTime": {
     "end_time": "2019-03-05T14:49:27.286146Z",
     "start_time": "2019-03-05T14:49:26.540547Z"
    }
   },
   "outputs": [],
   "source": [
    "# Your code here..."
   ]
  },
  {
   "cell_type": "markdown",
   "metadata": {},
   "source": [
    "### Make the Figure Size Larger:\n"
   ]
  },
  {
   "cell_type": "code",
   "execution_count": null,
   "metadata": {},
   "outputs": [],
   "source": [
    "# Your code here... "
   ]
  },
  {
   "cell_type": "markdown",
   "metadata": {},
   "source": [
    "### Adding Subplots\n",
    "The first thing you'll need to do is call the `.subplots( nrows=<rows>, ncols=<cols> )` to create a subplot.\n",
    "Next, plot your charts using the `.plot()` method.  To do add the second plot to your figure, add the `ax=axes[n]` to the `.plot()` method."
   ]
  },
  {
   "cell_type": "code",
   "execution_count": null,
   "metadata": {
    "ExecuteTime": {
     "end_time": "2018-11-27T06:29:53.175704Z",
     "start_time": "2018-11-27T06:29:52.863546Z"
    }
   },
   "outputs": [],
   "source": [
    "# Your code here..."
   ]
  },
  {
   "cell_type": "markdown",
   "metadata": {},
   "source": [
    "# Making it Interactive\n",
    "\n",
    "Using `cufflinks`, plot an interactive time series chart of this data. Plot each series on a separate line.  The documentation for `cufflinks` can be found here: https://plot.ly/ipython-notebooks/cufflinks/.   "
   ]
  },
  {
   "cell_type": "code",
   "execution_count": null,
   "metadata": {
    "ExecuteTime": {
     "end_time": "2018-11-27T06:30:03.652158Z",
     "start_time": "2018-11-27T06:30:03.624021Z"
    }
   },
   "outputs": [],
   "source": [
    "# Your code here..."
   ]
  },
  {
   "cell_type": "markdown",
   "metadata": {},
   "source": [
    "## Building Dashboards with Interactive Widgets\n",
    "In this last example, you are going to create a chart to visualize the breakdown of bots attacking each industry.  In order to do this we will be using the `panel` module.  The complete documentation for the `Panel` module are available here: http://panel.pyviz.org/index.html\n",
    "\n",
    "The first thing you will need to do is define a fuction which takes an argument of an industry and returns a figure from a visualization.  In order to do that, you will have to do a bit of data wrangling as well.  Specifically, you will need to:\n",
    "1.  Filter your data by the user supplied industry\n",
    "2.  Remove extraneous columns\n",
    "3.  Aggregate the data by the `Industry` column\n",
    "4.  Calculate a `sum` of the `hosts` column\n",
    "5.  Set the index to the `botfam` column.\n",
    "\n",
    "Ultimately your data will need to be formatted like this:\n",
    "\n",
    "<table>\n",
    "    <tr>\n",
    "        <th>hosts</th>\n",
    "        <th>botfam</th>\n",
    "    </tr>\n",
    "    <tr>\n",
    "        <td>Bedep</td>\n",
    "        <td>52049</td>\n",
    "    </tr>\n",
    "    <tr>\n",
    "        <td>ConfickerAB</td>\n",
    "        <td>321373</td>\n",
    "    </tr>\n",
    "    <tr>  \n",
    "        <td>Necurs</td>\n",
    "        <td>48037</td>\n",
    "    </tr>\n",
    "    <tr>\n",
    "        <td>Olmasco</td>\t\n",
    "        <td>1572</td>\n",
    "    </tr>\n",
    "    <tr>\n",
    "        <td>PushDo</td>\n",
    "        <td>62485</td>\n",
    "    </tr>\n",
    "    <tr>\n",
    "        <td>Ramnit</td>\n",
    "        <td>78753</td>\n",
    "    </tr>\n",
    "    <tr>\n",
    "        <td>Sality</td>\n",
    "        <td>56600</td>\n",
    "    </tr>\n",
    "    <tr>\n",
    "        <td>Zeus</td>\n",
    "        <td>16156</td>\n",
    "    </tr>\n",
    "    <tr>\n",
    "        <td>Zusy</td>\n",
    "        <td>45648</td>\n",
    "    </tr>\n",
    "    <tr>\n",
    "        <td>zeroaccess</td>\n",
    "        <td>24456</td>\n",
    "    </tr>\n",
    "</table>\n",
    "\n"
   ]
  },
  {
   "cell_type": "code",
   "execution_count": null,
   "metadata": {},
   "outputs": [],
   "source": [
    "industry_list = ['Manufacturing', 'Retail', 'Education', 'Healthcare/Wellness',\n",
    "                                                        'Government/Politics', 'Finance']\n",
    "def plot_industry_bar_chart(selected_industry):\n",
    "    #Your code here...\n",
    "    return fig"
   ]
  },
  {
   "cell_type": "markdown",
   "metadata": {},
   "source": [
    "Next, use the `pn.interact()` function to actually render the widget and graph.  This function takes two arguments:\n",
    "1.  A function which renders the chart.  (This is the function that you wrote in the previous step)\n",
    "2.  A list of inputs, in this case the industries, that you want to pass to the charting function\n",
    "\n",
    "Documentation available here: http://panel.pyviz.org/user_guide/Interact.html\n"
   ]
  },
  {
   "cell_type": "code",
   "execution_count": null,
   "metadata": {},
   "outputs": [],
   "source": [
    "#Your code here..."
   ]
  }
 ],
 "metadata": {
  "anaconda-cloud": {},
  "kernelspec": {
   "display_name": "Python 3",
   "language": "python",
   "name": "python3"
  },
  "language_info": {
   "codemirror_mode": {
    "name": "ipython",
    "version": 3
   },
   "file_extension": ".py",
   "mimetype": "text/x-python",
   "name": "python",
   "nbconvert_exporter": "python",
   "pygments_lexer": "ipython3",
   "version": "3.7.3"
  },
  "toc": {
   "base_numbering": 1,
   "nav_menu": {},
   "number_sections": false,
   "sideBar": false,
   "skip_h1_title": false,
   "title_cell": "Table of Contents",
   "title_sidebar": "Contents",
   "toc_cell": false,
   "toc_position": {},
   "toc_section_display": false,
   "toc_window_display": false
  },
  "varInspector": {
   "cols": {
    "lenName": 16,
    "lenType": 16,
    "lenVar": 40
   },
   "kernels_config": {
    "python": {
     "delete_cmd_postfix": "",
     "delete_cmd_prefix": "del ",
     "library": "var_list.py",
     "varRefreshCmd": "print(var_dic_list())"
    },
    "r": {
     "delete_cmd_postfix": ") ",
     "delete_cmd_prefix": "rm(",
     "library": "var_list.r",
     "varRefreshCmd": "cat(var_dic_list()) "
    }
   },
   "types_to_exclude": [
    "module",
    "function",
    "builtin_function_or_method",
    "instance",
    "_Feature"
   ],
   "window_display": false
  }
 },
 "nbformat": 4,
 "nbformat_minor": 1
}
